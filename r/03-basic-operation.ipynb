{
  "nbformat": 4,
  "nbformat_minor": 0,
  "metadata": {
    "colab": {
      "name": "R-basic-operation.ipynb",
      "provenance": [],
      "collapsed_sections": []
    },
    "kernelspec": {
      "name": "ir",
      "display_name": "R"
    }
  },
  "cells": [
    {
      "cell_type": "markdown",
      "metadata": {
        "id": "zm6a7pY9jicP"
      },
      "source": [
        "#R Basic Operation\n",
        "เราสามารถดำเนินการ ระหว่างตัวแปรข้อมูลสำหรับภาษา R ได้ด้วยเครื่องหมายทางคณิตศาสตร์ดังนี้\n",
        "\n",
        "Operator | ความหมาย | ตัวอย่างทางคณิตศาสตร์ | ตัวอย่างเมื่อเขียนเป็น Code\n",
        "------|-------|-------|------- \n",
        "+ |  บวก | 1 + 2 | 1 + 2\n",
        "- |  ลบ | 1 - 2 | 1 - 2\n",
        "* |  คูณ | 1 x 2 | 1 * 2\n",
        "/ |  หาร | 1 ÷ 2 | 1 / 2\n",
        "%% | หารเอาเฉพาะเศษ ( Modulo ) | 1 / 2 แต่เอาเศษ | 1 %% 2\n",
        "** หรือ ^ | ยกกำลัง ( Exponential ) | $1^2$ | 1^2 หรือ 1**2\n",
        "\n",
        "\n",
        "**จะสังเกตว่า Modulo ของภาษา R ใช้ `%%` แต่ภาษาอื่น ๆ มันจะใช้แค่ `%` เท่านั้น**\n"
      ]
    },
    {
      "cell_type": "markdown",
      "metadata": {
        "id": "h78WzQq_joEU"
      },
      "source": [
        "เรามาลองดูว่าจะแสดงผลเป็นอย่างไร"
      ]
    },
    {
      "cell_type": "code",
      "metadata": {
        "colab": {
          "base_uri": "https://localhost:8080/"
        },
        "id": "JVAyJnlHjpLg",
        "outputId": "cad96200-5b15-4477-fc9d-dc35c8fadc1a"
      },
      "source": [
        "# สร้าง parameter\n",
        "a <- 1L\n",
        "b <- 2L\n",
        "c <- 3L\n",
        "\n",
        "cat(\"ผลการบวก : \", a + b, \"\\n\")\n",
        "cat(\"ผลการลบ : \", a - b, \"\\n\")\n",
        "cat(\"ผลการคูณ : \", a * b, \"\\n\")\n",
        "cat(\"ผลการหาร : \", a / b, \"\\n\")\n",
        "cat(\"ผลการหารเอาเฉพาะเศษ : \", c %% b, \"\\n\")\n",
        "cat(\"ผลการยกกำลัง : \", c ** b, \" และ \", c ^ b, \"\\n\")\n"
      ],
      "execution_count": 18,
      "outputs": [
        {
          "output_type": "stream",
          "text": [
            "ผลการบวก :  3 \n",
            "ผลการลบ :  -1 \n",
            "ผลการคูณ :  2 \n",
            "ผลการหาร :  0.5 \n",
            "ผลการหารเอาเฉพาะเศษ :  1 \n",
            "ผลการยกกำลัง :  9  และ  9 \n"
          ],
          "name": "stdout"
        }
      ]
    },
    {
      "cell_type": "markdown",
      "metadata": {
        "id": "O6XHvTPklR_0"
      },
      "source": [
        "---\n",
        "ถ้าอ้างอิงจาก Part ที่ 02 ที่พูดถึงเรื่องประเภทข้อมูล ( Data type )การดำเนินการกันระหว่างแต่ละค่าตัวแปรจะต้องคำนึงถึงประเภทข้อมูลเสมอ \n",
        "\n",
        "เนื่องจากภาษา R ไม่ได้มีคุณสมบัติ Dynamic type อย่างที่บางภาษามีอย่างเช่น Nodejs , PHP\n",
        "\n",
        "ดังนั้นการดำเนินการกันโดยมีการใช้หลายประเภทข้อมูลอาจทำให้ข้อมูลที่เกิดจากการคำนวณนั้นผิดพลาดได้เช่นกัน\n",
        "\n",
        "หากจะอธิบายโดยง่าย อาจจะเรียกว่า เมื่อไหร่ก็ตามที่มีการคำนวณ ข้ามประเภทแล้ว ตัวภาษา R จะทำการแปลงทุกค่าให้เป็น ประเภทเดียวกันก่อน (โดยยึดจากประเภทที่มีศักย์สูงสุด) แล้วจึงดำเนินการต่อไป"
      ]
    },
    {
      "cell_type": "code",
      "metadata": {
        "colab": {
          "base_uri": "https://localhost:8080/"
        },
        "id": "bq-jBBnwlgHM",
        "outputId": "f6d379d4-0f2d-44ca-ced6-10ffce8194e9"
      },
      "source": [
        "# สร้าง parameter เพิ้มเติม และใช้ a , b, c จากด้านบน\n",
        "d <- 1.5 # double\n",
        "e <- 4 + 2i #complex\n",
        "f <- FALSE #logical\n",
        "g <- \"22\" #character\n",
        "\n",
        "# ลองทำ operation\n",
        "cat(\"ทำสอบเอา integer ดำเนินการกับ logical (f + a) = \", f + a,\" โดยจะได้ Type ต่อไปนี้\", typeof(f + a), \"\\n\")\n",
        "cat(\"ทำสอบเอา integer ดำเนินการกับ double (a + d) = \", a + d,\" โดยจะได้ Type ต่อไปนี้\", typeof(a + d), \"\\n\")\n",
        "cat(\"ทำสอบเอา double ดำเนินการกับ complex (d + e) = \", d + e,\" โดยจะได้ Type ต่อไปนี้\", typeof(d + e), \"\\n\")"
      ],
      "execution_count": 24,
      "outputs": [
        {
          "output_type": "stream",
          "text": [
            "ทำสอบเอา integer ดำเนินการกับ logical (f + a) =  1  โดยจะได้ Type ต่อไปนี้ integer \n",
            "ทำสอบเอา integer ดำเนินการกับ double (a + d) =  2.5  โดยจะได้ Type ต่อไปนี้ double \n",
            "ทำสอบเอา double ดำเนินการกับ complex (d + e) =  5.5+2i  โดยจะได้ Type ต่อไปนี้ complex \n"
          ],
          "name": "stdout"
        }
      ]
    },
    {
      "cell_type": "markdown",
      "metadata": {
        "id": "PUy8lBrxv0eX"
      },
      "source": [
        "\n",
        "---\n",
        "\n",
        "ทดสอบดำเนินการ charactor กับ ค่าอื่น ๆ ดูบ้าง"
      ]
    },
    {
      "cell_type": "code",
      "metadata": {
        "colab": {
          "base_uri": "https://localhost:8080/",
          "height": 172
        },
        "id": "xKwes8ZdvzJv",
        "outputId": "92823e22-179b-4fd1-ed49-0140139af038"
      },
      "source": [
        "cat(\"ทำสอบเอา character ดำเนินการกับ complex (g + e) = \", g + e,\" โดยจะได้ Type ต่อไปนี้\", typeof(g + e), \"\\n\")"
      ],
      "execution_count": 26,
      "outputs": [
        {
          "output_type": "error",
          "ename": "ERROR",
          "evalue": "ignored",
          "traceback": [
            "Error in g + e: non-numeric argument to binary operator\nTraceback:\n",
            "1. cat(\"ทำสอบเอา character ดำเนินการกับ complex (g + e) = \", \n .     g + e, \" โดยจะได้ Type ต่อไปนี้\", \n .     typeof(g + e), \"\\n\")"
          ]
        }
      ]
    },
    {
      "cell_type": "markdown",
      "metadata": {
        "id": "z-iLsz-ywvGf"
      },
      "source": [
        "จะพบว่าการดำเนินการจาก ประเภทข้อมูล charactor ข้ามกับประเภทตัวเลข ( ต่าง ๆ ) นั่นไม่สามารถทำได้ ถึงแม้ว่าข้อความนั้นจะเป็นค่าว่า `22` ก็ตามแต่ก็ยังคงเป็นประเภท charactor อยู่ดี\n",
        "\n",
        "แล้วจะทำยังไง เราสามารถบังคับเปลี่ยนประเภทข้อมูลได้เองจากการใช้คำสั่ง `as.xxx`\n",
        "ดังตัวอย่างต่อไปนี้"
      ]
    },
    {
      "cell_type": "code",
      "metadata": {
        "colab": {
          "base_uri": "https://localhost:8080/",
          "height": 69
        },
        "id": "T6t4mLOdx9Oc",
        "outputId": "94b72553-38f7-4b5a-d3a4-581b1adc2909"
      },
      "source": [
        "h <- 5L\n",
        "i <- \"23\"\n",
        "\n",
        "#ก่อนการเปลี่ยนประเภท\n",
        "typeof(h)\n",
        "typeof(i)"
      ],
      "execution_count": 30,
      "outputs": [
        {
          "output_type": "stream",
          "text": [
            "[1] \"ก่อนการเปลี่ยนประเภท\"\n"
          ],
          "name": "stdout"
        },
        {
          "output_type": "display_data",
          "data": {
            "text/plain": [
              "[1] \"integer\""
            ],
            "text/latex": "'integer'",
            "text/markdown": "'integer'",
            "text/html": [
              "'integer'"
            ]
          },
          "metadata": {
            "tags": []
          }
        },
        {
          "output_type": "display_data",
          "data": {
            "text/plain": [
              "[1] \"character\""
            ],
            "text/latex": "'character'",
            "text/markdown": "'character'",
            "text/html": [
              "'character'"
            ]
          },
          "metadata": {
            "tags": []
          }
        }
      ]
    },
    {
      "cell_type": "code",
      "metadata": {
        "colab": {
          "base_uri": "https://localhost:8080/",
          "height": 51
        },
        "id": "Koa3N6N1yv3b",
        "outputId": "f31e9538-92ba-4035-8da0-f8a4750cfae3"
      },
      "source": [
        "#เปลี่ยนประเภท\n",
        "i <- as.integer(i)\n",
        "\n",
        "#หลังการเปลี่ยนประเภท\n",
        "typeof(h)\n",
        "typeof(i)\n"
      ],
      "execution_count": 35,
      "outputs": [
        {
          "output_type": "display_data",
          "data": {
            "text/plain": [
              "[1] \"integer\""
            ],
            "text/latex": "'integer'",
            "text/markdown": "'integer'",
            "text/html": [
              "'integer'"
            ]
          },
          "metadata": {
            "tags": []
          }
        },
        {
          "output_type": "display_data",
          "data": {
            "text/plain": [
              "[1] \"integer\""
            ],
            "text/latex": "'integer'",
            "text/markdown": "'integer'",
            "text/html": [
              "'integer'"
            ]
          },
          "metadata": {
            "tags": []
          }
        }
      ]
    },
    {
      "cell_type": "markdown",
      "metadata": {
        "id": "prkSLTDuzEmK"
      },
      "source": [
        "ลองนำมาดำเนินการทางคณิตศาสตร์อีกครั้งหลังจากเปลี่ยนให้เป็นประเภทเดียวกันแล้ว"
      ]
    },
    {
      "cell_type": "code",
      "metadata": {
        "colab": {
          "base_uri": "https://localhost:8080/",
          "height": 34
        },
        "id": "qgw3f5tYzFiJ",
        "outputId": "1aa2e13c-3f9d-4829-b331-7ca149a7897f"
      },
      "source": [
        "h+i #23 + 5"
      ],
      "execution_count": 37,
      "outputs": [
        {
          "output_type": "display_data",
          "data": {
            "text/plain": [
              "[1] 28"
            ],
            "text/latex": "28",
            "text/markdown": "28",
            "text/html": [
              "28"
            ]
          },
          "metadata": {
            "tags": []
          }
        }
      ]
    },
    {
      "cell_type": "markdown",
      "metadata": {
        "id": "ziw1HO1Grc85"
      },
      "source": [
        "\n",
        "\n",
        "---\n",
        "\n",
        "\n",
        "โดยการเปลี่ยนแปลงประเภทของตัวแปรข้อมูลนั้นจะมีสองทางที่สามารถเกิดขึ้นได้ในภาษา R คือ\n",
        "1.   การที่เราบังคับให้เปลี่ยนประเภทเอง ( Implicit Conversions ) โดยการใช้ function `as.xxx`\n",
        "2.   การที่ตัวแปรข้อมูลถูกเปลี่ยนเมื่อจับมันมาดำเนินการอะไรสักอย่างทางคณิตศาสตร์ ( Explicit Conversions )\n",
        "\n",
        "อ้างอิงจาก \n",
        "https://www.pluralsight.com/guides/explicit-implicity-type-casting-the-difference\n",
        "\n",
        "---\n",
        "\n",
        "แล้วเรามี function อะไรบ้างภายในกฏ Implicit Conversions ของ R (ที่เป็นเรื่องของประเภทข้อมูลพื้นฐาน)"
      ]
    },
    {
      "cell_type": "code",
      "metadata": {
        "colab": {
          "base_uri": "https://localhost:8080/",
          "height": 102
        },
        "id": "7HwuwaX2zff3",
        "outputId": "145e5ed4-47ae-49b2-e8e4-40f73ba5627d"
      },
      "source": [
        "as.character(1)\n",
        "as.integer(2.5)\n",
        "as.double(3)\n",
        "as.complex(4)\n",
        "as.logical(\"TRUE\")"
      ],
      "execution_count": 40,
      "outputs": [
        {
          "output_type": "display_data",
          "data": {
            "text/plain": [
              "[1] \"1\""
            ],
            "text/latex": "'1'",
            "text/markdown": "'1'",
            "text/html": [
              "'1'"
            ]
          },
          "metadata": {
            "tags": []
          }
        },
        {
          "output_type": "display_data",
          "data": {
            "text/plain": [
              "[1] 2"
            ],
            "text/latex": "2",
            "text/markdown": "2",
            "text/html": [
              "2"
            ]
          },
          "metadata": {
            "tags": []
          }
        },
        {
          "output_type": "display_data",
          "data": {
            "text/plain": [
              "[1] 3"
            ],
            "text/latex": "3",
            "text/markdown": "3",
            "text/html": [
              "3"
            ]
          },
          "metadata": {
            "tags": []
          }
        },
        {
          "output_type": "display_data",
          "data": {
            "text/plain": [
              "[1] 4+0i"
            ],
            "text/latex": "4+0i",
            "text/markdown": "4+0i",
            "text/html": [
              "4+0i"
            ]
          },
          "metadata": {
            "tags": []
          }
        },
        {
          "output_type": "display_data",
          "data": {
            "text/plain": [
              "[1] TRUE"
            ],
            "text/latex": "TRUE",
            "text/markdown": "TRUE",
            "text/html": [
              "TRUE"
            ]
          },
          "metadata": {
            "tags": []
          }
        }
      ]
    }
  ]
}
