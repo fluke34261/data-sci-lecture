{
  "nbformat": 4,
  "nbformat_minor": 0,
  "metadata": {
    "colab": {
      "name": "R-lecture-4-advance-data-type-vector.ipynb",
      "provenance": [],
      "collapsed_sections": []
    },
    "kernelspec": {
      "name": "ir",
      "display_name": "R"
    }
  },
  "cells": [
    {
      "cell_type": "markdown",
      "metadata": {
        "id": "8v1IjthJEzd4"
      },
      "source": [
        "#R advance data type \n",
        "## Vector\n"
      ]
    },
    {
      "cell_type": "markdown",
      "metadata": {
        "id": "G8Ly7MjtFsb8"
      },
      "source": [
        "R มีรูปแบบการเก็บข้อมูลขั้นสูงดังต่อไปนี้\n",
        "\n",
        "1.   Vector\n",
        "2.   Factor\n",
        "3.   Matrix\n",
        "4.   List\n",
        "5.   Dataframe\n",
        "\n",
        "โดยสามารถประกาศตัวแปลด้วยวิธี `<-` ดังตัวอย่างต่อไปนี้\n"
      ]
    },
    {
      "cell_type": "markdown",
      "metadata": {
        "id": "w5rsm3WO0W9X"
      },
      "source": [
        "เริ่มกันที่ Vector โดย R สามารถประกาศ Vector ได้จากการใช้ function `c()` ทีมาจากคำว่า combine (สงสัยอยู่นานทำไมใช้ c ทั้ง ๆ ที่ควรเป็น v)\n",
        "\n",
        "โดยคุณสมบัติของ vector คือการกลุ่มก้อนค่าที่มี ชนิด data type เดียวกัน ( data type คือยังไงกลับไปอ่านตอนที่ 2)"
      ]
    },
    {
      "cell_type": "code",
      "metadata": {
        "colab": {
          "base_uri": "https://localhost:8080/",
          "height": 87
        },
        "id": "MEPC1c7c01o0",
        "outputId": "d6a69bd7-8b1e-4d91-a83f-81b2b0ceb252"
      },
      "source": [
        "v1 <- c(1L, 2L, 3L)\n",
        "print(v1)\n",
        "typeof(v1)\n",
        "\n",
        "v2 <- c(\"a\", \"b\", \"ccc\")\n",
        "print(v2)\n",
        "typeof(v2)"
      ],
      "execution_count": null,
      "outputs": [
        {
          "output_type": "stream",
          "text": [
            "[1] 1 2 3\n"
          ],
          "name": "stdout"
        },
        {
          "output_type": "display_data",
          "data": {
            "text/plain": [
              "[1] \"integer\""
            ],
            "text/latex": "'integer'",
            "text/markdown": "'integer'",
            "text/html": [
              "'integer'"
            ]
          },
          "metadata": {
            "tags": []
          }
        },
        {
          "output_type": "stream",
          "text": [
            "[1] \"a\"   \"b\"   \"ccc\"\n"
          ],
          "name": "stdout"
        },
        {
          "output_type": "display_data",
          "data": {
            "text/plain": [
              "[1] \"character\""
            ],
            "text/latex": "'character'",
            "text/markdown": "'character'",
            "text/html": [
              "'character'"
            ]
          },
          "metadata": {
            "tags": []
          }
        }
      ]
    },
    {
      "cell_type": "markdown",
      "metadata": {
        "id": "1TtWBMlg1TxY"
      },
      "source": [
        "ที่บอกว่าเป็น ชนิด data type เดียวกันเพราะว่ายังไงมาลอง คละ data type กันดู"
      ]
    },
    {
      "cell_type": "code",
      "metadata": {
        "colab": {
          "base_uri": "https://localhost:8080/",
          "height": 87
        },
        "id": "7i5G_XQA1ZyI",
        "outputId": "62ac4739-9a92-4643-fa28-56b9a408be97"
      },
      "source": [
        "v3 <- c(1, 2, \"a\")\n",
        "print(v3) ## เปลี่ยนทุกค่าเป็น charactor สังเกตจาก มีเครื่องหมาย \"\" ครอบ 1 และ 2 เหมือนกับ a\n",
        "typeof(v3)"
      ],
      "execution_count": 1,
      "outputs": [
        {
          "output_type": "stream",
          "text": [
            "[1] \"1\" \"2\" \"a\"\n"
          ],
          "name": "stdout"
        },
        {
          "output_type": "display_data",
          "data": {
            "text/plain": [
              "[1] \"character\""
            ],
            "text/latex": "'character'",
            "text/markdown": "'character'",
            "text/html": [
              "'character'"
            ]
          },
          "metadata": {
            "tags": []
          }
        },
        {
          "output_type": "stream",
          "text": [
            "[1] 1.0 2.0 3.5\n"
          ],
          "name": "stdout"
        },
        {
          "output_type": "display_data",
          "data": {
            "text/plain": [
              "[1] \"double\""
            ],
            "text/latex": "'double'",
            "text/markdown": "'double'",
            "text/html": [
              "'double'"
            ]
          },
          "metadata": {
            "tags": []
          }
        }
      ]
    },
    {
      "cell_type": "code",
      "metadata": {
        "colab": {
          "base_uri": "https://localhost:8080/",
          "height": 52
        },
        "id": "5EoPp0Fk59FS",
        "outputId": "e03cc732-1887-4fcb-a89a-2a78502be2d5"
      },
      "source": [
        "v4 <- c(1L, 2L, 3.5)\n",
        "print(v4) ## เปลี่ยนทุกค่าเป็น double สังเกตจากตำแหน่ง จุดทศนิยมที่เพิ่มให้กับทุกคนใน vector\n",
        "typeof(v4)"
      ],
      "execution_count": 2,
      "outputs": [
        {
          "output_type": "stream",
          "text": [
            "[1] 1.0 2.0 3.5\n"
          ],
          "name": "stdout"
        },
        {
          "output_type": "display_data",
          "data": {
            "text/plain": [
              "[1] \"double\""
            ],
            "text/latex": "'double'",
            "text/markdown": "'double'",
            "text/html": [
              "'double'"
            ]
          },
          "metadata": {
            "tags": []
          }
        }
      ]
    },
    {
      "cell_type": "markdown",
      "metadata": {
        "id": "frB-bv6R6Aa6"
      },
      "source": [
        "โดยกฏของการเปลี่ยนประเภทข้อมูลที่เกิดขึ้นใน vector นั้นจะอ้างอิงเหมือนกับกฏของการดำเนินการทางคณิตศาสตร์เลย (ดูได้จากบทที่ 3) แต่พิเศษกว่าหน่อย ๆ ตรงที่สามารถดำเนินการร่วมกับข้อมูลประเภท charactor ได้อีกด้วย ดังตัวอย่างต่อไปนี้"
      ]
    },
    {
      "cell_type": "code",
      "metadata": {
        "colab": {
          "base_uri": "https://localhost:8080/",
          "height": 52
        },
        "id": "pgvxj8sx58ef",
        "outputId": "3da7b314-95b4-4017-e5c3-bdc2208ca906"
      },
      "source": [
        "v5 <- c(1L, 2.5, \"b\", TRUE)\n",
        "print(v5)\n",
        "typeof(v5)"
      ],
      "execution_count": 3,
      "outputs": [
        {
          "output_type": "stream",
          "text": [
            "[1] \"1\"    \"2.5\"  \"b\"    \"TRUE\"\n"
          ],
          "name": "stdout"
        },
        {
          "output_type": "display_data",
          "data": {
            "text/plain": [
              "[1] \"character\""
            ],
            "text/latex": "'character'",
            "text/markdown": "'character'",
            "text/html": [
              "'character'"
            ]
          },
          "metadata": {
            "tags": []
          }
        }
      ]
    },
    {
      "cell_type": "markdown",
      "metadata": {
        "id": "Rtr7Wy2q9Cmk"
      },
      "source": [
        "นั่นแปลว่าเมื่อดำเนินการรวมข้อมูลในแบบ vector แล้วจะมีลำดับการเปลี่ยนประเภทข้อมูลดังต่อไปนี้\n",
        "\n",
        "\n",
        "*logical (ศักย์ต่ำสุด) –> integer –> numeric –> complex –> character (ศักย์สูงสุด)*\n",
        "\n",
        "\n",
        "ก็คือมี charactor อยู่จัดสูงสุดนั่นเอง"
      ]
    }
  ]
}
